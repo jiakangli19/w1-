{
 "cells": [
  {
   "cell_type": "code",
   "execution_count": 1,
   "id": "e9ac5bc2",
   "metadata": {},
   "outputs": [],
   "source": [
    "def MaxElement(A):\n",
    "    if len(A) == 0:\n",
    "        return None\n",
    "    max = A[0]\n",
    "    for i in range(len(A)):\n",
    "        if A[i] > max:\n",
    "            max = A[i]\n",
    "    return max"
   ]
  },
  {
   "cell_type": "code",
   "execution_count": 2,
   "id": "3fc29bea",
   "metadata": {},
   "outputs": [],
   "source": [
    "def test():\n",
    "    print(MaxElement([3, 1, 4, 1, 5, 9, 2, 6]))"
   ]
  },
  {
   "cell_type": "code",
   "execution_count": 3,
   "id": "24abbe54",
   "metadata": {},
   "outputs": [
    {
     "name": "stdout",
     "output_type": "stream",
     "text": [
      "9\n"
     ]
    }
   ],
   "source": [
    "if __name__ == \"__main__\":\n",
    "    test()"
   ]
  },
  {
   "cell_type": "code",
   "execution_count": 4,
   "id": "1ef9edff",
   "metadata": {},
   "outputs": [],
   "source": [
    "import os"
   ]
  },
  {
   "cell_type": "code",
   "execution_count": null,
   "id": "40926949",
   "metadata": {},
   "outputs": [],
   "source": [
    "print(os.)"
   ]
  }
 ],
 "metadata": {
  "kernelspec": {
   "display_name": "Python 3 (ipykernel)",
   "language": "python",
   "name": "python3"
  },
  "language_info": {
   "codemirror_mode": {
    "name": "ipython",
    "version": 3
   },
   "file_extension": ".py",
   "mimetype": "text/x-python",
   "name": "python",
   "nbconvert_exporter": "python",
   "pygments_lexer": "ipython3",
   "version": "3.9.7"
  }
 },
 "nbformat": 4,
 "nbformat_minor": 5
}
